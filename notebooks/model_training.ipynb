{
 "cells": [
  {
   "cell_type": "code",
   "execution_count": 4,
   "id": "b6b8448d",
   "metadata": {},
   "outputs": [
    {
     "data": {
      "text/html": [
       "<div>\n",
       "<style scoped>\n",
       "    .dataframe tbody tr th:only-of-type {\n",
       "        vertical-align: middle;\n",
       "    }\n",
       "\n",
       "    .dataframe tbody tr th {\n",
       "        vertical-align: top;\n",
       "    }\n",
       "\n",
       "    .dataframe thead th {\n",
       "        text-align: right;\n",
       "    }\n",
       "</style>\n",
       "<table border=\"1\" class=\"dataframe\">\n",
       "  <thead>\n",
       "    <tr style=\"text-align: right;\">\n",
       "      <th></th>\n",
       "      <th>N</th>\n",
       "      <th>P</th>\n",
       "      <th>K</th>\n",
       "      <th>temperature</th>\n",
       "      <th>humidity</th>\n",
       "      <th>ph</th>\n",
       "      <th>rainfall</th>\n",
       "      <th>label</th>\n",
       "    </tr>\n",
       "  </thead>\n",
       "  <tbody>\n",
       "    <tr>\n",
       "      <th>0</th>\n",
       "      <td>93.113649</td>\n",
       "      <td>91.516982</td>\n",
       "      <td>46.173434</td>\n",
       "      <td>27.783575</td>\n",
       "      <td>83.949361</td>\n",
       "      <td>6.080523</td>\n",
       "      <td>117.102538</td>\n",
       "      <td>banana</td>\n",
       "    </tr>\n",
       "    <tr>\n",
       "      <th>1</th>\n",
       "      <td>21.995568</td>\n",
       "      <td>35.747756</td>\n",
       "      <td>20.798377</td>\n",
       "      <td>27.519434</td>\n",
       "      <td>86.402826</td>\n",
       "      <td>6.606874</td>\n",
       "      <td>37.612247</td>\n",
       "      <td>mungbean</td>\n",
       "    </tr>\n",
       "    <tr>\n",
       "      <th>2</th>\n",
       "      <td>27.000000</td>\n",
       "      <td>30.000000</td>\n",
       "      <td>5.000000</td>\n",
       "      <td>32.717485</td>\n",
       "      <td>90.546083</td>\n",
       "      <td>7.656978</td>\n",
       "      <td>113.328978</td>\n",
       "      <td>orange</td>\n",
       "    </tr>\n",
       "    <tr>\n",
       "      <th>3</th>\n",
       "      <td>60.866144</td>\n",
       "      <td>55.120913</td>\n",
       "      <td>36.749537</td>\n",
       "      <td>26.071922</td>\n",
       "      <td>80.155500</td>\n",
       "      <td>7.122667</td>\n",
       "      <td>150.817129</td>\n",
       "      <td>jute</td>\n",
       "    </tr>\n",
       "    <tr>\n",
       "      <th>4</th>\n",
       "      <td>24.000000</td>\n",
       "      <td>44.000000</td>\n",
       "      <td>17.000000</td>\n",
       "      <td>29.859691</td>\n",
       "      <td>80.034996</td>\n",
       "      <td>6.666381</td>\n",
       "      <td>50.664875</td>\n",
       "      <td>mungbean</td>\n",
       "    </tr>\n",
       "  </tbody>\n",
       "</table>\n",
       "</div>"
      ],
      "text/plain": [
       "           N          P          K  temperature   humidity        ph  \\\n",
       "0  93.113649  91.516982  46.173434    27.783575  83.949361  6.080523   \n",
       "1  21.995568  35.747756  20.798377    27.519434  86.402826  6.606874   \n",
       "2  27.000000  30.000000   5.000000    32.717485  90.546083  7.656978   \n",
       "3  60.866144  55.120913  36.749537    26.071922  80.155500  7.122667   \n",
       "4  24.000000  44.000000  17.000000    29.859691  80.034996  6.666381   \n",
       "\n",
       "     rainfall     label  \n",
       "0  117.102538    banana  \n",
       "1   37.612247  mungbean  \n",
       "2  113.328978    orange  \n",
       "3  150.817129      jute  \n",
       "4   50.664875  mungbean  "
      ]
     },
     "execution_count": 4,
     "metadata": {},
     "output_type": "execute_result"
    }
   ],
   "source": [
    "# ----------------- Imports -----------------\n",
    "import pandas as pd\n",
    "import joblib\n",
    "from sklearn.model_selection import train_test_split, GridSearchCV\n",
    "from sklearn.preprocessing import StandardScaler, LabelEncoder\n",
    "from sklearn.ensemble import RandomForestClassifier\n",
    "from sklearn.linear_model import LogisticRegression\n",
    "from sklearn.neighbors import KNeighborsClassifier\n",
    "from xgboost import XGBClassifier\n",
    "from sklearn.metrics import accuracy_score\n",
    "from sklearn.exceptions import ConvergenceWarning\n",
    "import warnings\n",
    "\n",
    "warnings.filterwarnings(\"ignore\", category=ConvergenceWarning)\n",
    "# 2. Load your 6600+ row dataset\n",
    "df = pd.read_csv(r'../data/crop_recommendation_6600_realistic.csv')  # Adjust path if needed\n",
    "X = df.drop('label', axis=1)\n",
    "y = df['label']\n",
    "df.head()\n",
    "\n",
    "\n",
    "\n",
    "\n"
   ]
  },
  {
   "cell_type": "code",
   "execution_count": 2,
   "id": "49282e97",
   "metadata": {},
   "outputs": [
    {
     "data": {
      "text/plain": [
       "['../app/label_encoder.pkl']"
      ]
     },
     "execution_count": 2,
     "metadata": {},
     "output_type": "execute_result"
    }
   ],
   "source": [
    "# ----------------- Encode Target -----------------\n",
    "le = LabelEncoder()\n",
    "y_encoded = le.fit_transform(y)\n",
    "joblib.dump(le, '../app/label_encoder.pkl')"
   ]
  },
  {
   "cell_type": "code",
   "execution_count": 3,
   "id": "608d91f8",
   "metadata": {},
   "outputs": [
    {
     "data": {
      "text/plain": [
       "['../app/scaler.pkl']"
      ]
     },
     "execution_count": 3,
     "metadata": {},
     "output_type": "execute_result"
    }
   ],
   "source": [
    "# ----------------- Train/Test Split -----------------\n",
    "X_train, X_test, y_train, y_test = train_test_split(X, y_encoded, test_size=0.2, random_state=42)\n",
    "\n",
    "# ----------------- Scale Data -----------------\n",
    "scaler = StandardScaler()\n",
    "X_train_scaled = scaler.fit_transform(X_train)\n",
    "X_test_scaled = scaler.transform(X_test)\n",
    "joblib.dump(scaler, '../app/scaler.pkl')\n",
    "\n"
   ]
  },
  {
   "cell_type": "code",
   "execution_count": 4,
   "id": "e397e507",
   "metadata": {},
   "outputs": [],
   "source": [
    "model_scores = {}"
   ]
  },
  {
   "cell_type": "code",
   "execution_count": 5,
   "id": "37c3d569",
   "metadata": {},
   "outputs": [
    {
     "data": {
      "text/plain": [
       "['../app/rf_model.pkl']"
      ]
     },
     "execution_count": 5,
     "metadata": {},
     "output_type": "execute_result"
    }
   ],
   "source": [
    "\n",
    "# ----------------- Random Forest -----------------\n",
    "rf_params = {'n_estimators': [100], 'max_depth': [None], 'min_samples_split': [2]}\n",
    "rf_grid = GridSearchCV(RandomForestClassifier(), rf_params, cv=3, scoring='accuracy')\n",
    "rf_grid.fit(X_train, y_train)\n",
    "rf_model = rf_grid.best_estimator_\n",
    "model_scores[\"Random Forest\"] = accuracy_score(y_test, rf_model.predict(X_test))\n",
    "joblib.dump(rf_model, '../app/rf_model.pkl')"
   ]
  },
  {
   "cell_type": "code",
   "execution_count": 6,
   "id": "7d23268d",
   "metadata": {},
   "outputs": [
    {
     "data": {
      "text/plain": [
       "['../app/lr_model.pkl']"
      ]
     },
     "execution_count": 6,
     "metadata": {},
     "output_type": "execute_result"
    }
   ],
   "source": [
    "\n",
    "# ----------------- Logistic Regression -----------------\n",
    "lr_params = {'C': [1.0], 'solver': ['lbfgs'], 'max_iter': [500]}\n",
    "lr_grid = GridSearchCV(LogisticRegression(), lr_params, cv=3, scoring='accuracy')\n",
    "lr_grid.fit(X_train_scaled, y_train)\n",
    "lr_model = lr_grid.best_estimator_\n",
    "model_scores[\"Logistic Regression\"] = accuracy_score(y_test, lr_model.predict(X_test_scaled))\n",
    "joblib.dump(lr_model, '../app/lr_model.pkl')\n",
    "\n"
   ]
  },
  {
   "cell_type": "code",
   "execution_count": 7,
   "id": "3e947dc7",
   "metadata": {},
   "outputs": [
    {
     "data": {
      "text/plain": [
       "['../app/knn_model.pkl']"
      ]
     },
     "execution_count": 7,
     "metadata": {},
     "output_type": "execute_result"
    }
   ],
   "source": [
    "# ----------------- KNN -----------------\n",
    "knn_params = {'n_neighbors': [5]}\n",
    "knn_grid = GridSearchCV(KNeighborsClassifier(), knn_params, cv=3, scoring='accuracy')\n",
    "knn_grid.fit(X_train_scaled, y_train)\n",
    "knn_model = knn_grid.best_estimator_\n",
    "model_scores[\"KNN\"] = accuracy_score(y_test, knn_model.predict(X_test_scaled))\n",
    "joblib.dump(knn_model, '../app/knn_model.pkl')"
   ]
  },
  {
   "cell_type": "code",
   "execution_count": 8,
   "id": "a56cd43a",
   "metadata": {},
   "outputs": [
    {
     "name": "stderr",
     "output_type": "stream",
     "text": [
      "c:\\Users\\Lenovo\\anaconda3\\Lib\\site-packages\\xgboost\\training.py:183: UserWarning: [19:46:29] WARNING: C:\\actions-runner\\_work\\xgboost\\xgboost\\src\\learner.cc:738: \n",
      "Parameters: { \"use_label_encoder\" } are not used.\n",
      "\n",
      "  bst.update(dtrain, iteration=i, fobj=obj)\n"
     ]
    },
    {
     "data": {
      "text/plain": [
       "['../app/xgb_model.pkl']"
      ]
     },
     "execution_count": 8,
     "metadata": {},
     "output_type": "execute_result"
    }
   ],
   "source": [
    "# ----------------- XGBoost -----------------\n",
    "xgb = XGBClassifier(use_label_encoder=False, eval_metric='mlogloss')\n",
    "xgb.fit(X_train, y_train)\n",
    "model_scores[\"XGBoost\"] = accuracy_score(y_test, xgb.predict(X_test))\n",
    "joblib.dump(xgb, '../app/xgb_model.pkl')\n"
   ]
  },
  {
   "cell_type": "code",
   "execution_count": 9,
   "id": "b3fd1c4f",
   "metadata": {},
   "outputs": [
    {
     "name": "stdout",
     "output_type": "stream",
     "text": [
      "Random Forest Accuracy: 99.85%\n",
      "Logistic Regression Accuracy: 98.41%\n",
      "KNN Accuracy: 98.64%\n",
      "XGBoost Accuracy: 99.39%\n"
     ]
    }
   ],
   "source": [
    "# ----------------- Show Results -----------------\n",
    "for model, score in model_scores.items():\n",
    "    print(f\"{model} Accuracy: {round(score*100, 2)}%\")"
   ]
  },
  {
   "cell_type": "code",
   "execution_count": 10,
   "id": "a410b8e9",
   "metadata": {},
   "outputs": [
    {
     "data": {
      "text/plain": [
       "['../app/model_accuracies.pkl']"
      ]
     },
     "execution_count": 10,
     "metadata": {},
     "output_type": "execute_result"
    }
   ],
   "source": [
    "model_scores = {\n",
    "    \"Random Forest\": 0.997,\n",
    "    \"Logistic Regression\": 0.9841,\n",
    "    \"KNN\": 0.9864,\n",
    "    \"XGBoost\": 0.9939\n",
    "}\n",
    "joblib.dump(model_scores, \"../app/model_accuracies.pkl\")"
   ]
  },
  {
   "cell_type": "code",
   "execution_count": null,
   "id": "8121c158",
   "metadata": {},
   "outputs": [],
   "source": []
  }
 ],
 "metadata": {
  "kernelspec": {
   "display_name": "base",
   "language": "python",
   "name": "python3"
  },
  "language_info": {
   "codemirror_mode": {
    "name": "ipython",
    "version": 3
   },
   "file_extension": ".py",
   "mimetype": "text/x-python",
   "name": "python",
   "nbconvert_exporter": "python",
   "pygments_lexer": "ipython3",
   "version": "3.12.7"
  }
 },
 "nbformat": 4,
 "nbformat_minor": 5
}
